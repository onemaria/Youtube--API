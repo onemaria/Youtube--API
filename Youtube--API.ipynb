{
 "cells": [
  {
   "cell_type": "code",
   "execution_count": 1,
   "id": "2339502f",
   "metadata": {},
   "outputs": [],
   "source": [
    "import requests\n",
    "import pandas as pd\n",
    "import time"
   ]
  },
  {
   "cell_type": "code",
   "execution_count": 2,
   "id": "4b6855ea",
   "metadata": {},
   "outputs": [],
   "source": [
    "API_KEY = ''\n",
    "CHANNEL_ID = 'UCW8Ews7tdKKkBT6GdtQaXvQ'"
   ]
  },
  {
   "cell_type": "code",
   "execution_count": 42,
   "id": "fd3b3357",
   "metadata": {},
   "outputs": [],
   "source": [
    "#collecting view, like, dislike, comment counts\n",
    "\n",
    "def get_video_counts(video_id):\n",
    "        #second API call for details\n",
    "        url_video_stats = \"https://www.googleapis.com/youtube/v3/videos?id=\"+ video_id + \"&part=statistics&key=\" + API_KEY\n",
    "        response_video_stats = requests.get(url_video_stats).json()\n",
    "\n",
    "        view_count = response_video_stats['items'][0]['statistics']['viewCount']\n",
    "        like_count = response_video_stats['items'][0]['statistics']['likeCount']\n",
    "        #favorite_count = response_video_stats['items'][0]['statistics']['favoriteCount']\n",
    "        #comment_count = response_video_stats['items'][0]['statistics']['commentCount']\n",
    "        \n",
    "        return view_count, like_count"
   ]
  },
  {
   "cell_type": "code",
   "execution_count": 55,
   "id": "8abddea4",
   "metadata": {},
   "outputs": [],
   "source": [
    "def get_videos(df):\n",
    "    #API call\n",
    "    pageToken = \"\"\n",
    "    url = \"https://www.googleapis.com/youtube/v3/search?key=\"+ API_KEY + \"&channelID =\" + CHANNEL_ID +\"&part=snippet, id&order=date&maxResults=10000\" + pageToken\n",
    "\n",
    "    response = requests.get(url).json()\n",
    "    \n",
    "    time.sleep(1) #give time for data from API to get here\n",
    "    \n",
    "    #video in items is equal to <response ['items'][0]>\n",
    "    for video in response['items']:\n",
    "        if video['id']['kind'] == \"youtube#video\":\n",
    "            #info that is collected\n",
    "            video_id = video['id']['videoId']\n",
    "            video_title = video['snippet']['title']\n",
    "            video_title = str(video_title).replace(\"&amp:\",\"\")\n",
    "            upload_date = video['snippet']['publishedAt']\n",
    "            upload_date = str(upload_date).split(\"T\")[0]\n",
    "\n",
    "\n",
    "            view_count = get_video_counts(video_id)\n",
    "           ### issue here \n",
    "            like_count = 1\n",
    "\n",
    "            #save all above data in a panda df\n",
    "            df = df.append({'video_id': video_id, 'video_title' : video_title,\n",
    "                            'upload_date' : upload_date, 'view_count' : view_count, 'like_count' : like_count}, ignore_index= True)\n",
    "    return df"
   ]
  },
  {
   "cell_type": "code",
   "execution_count": 49,
   "id": "d18c7bc6",
   "metadata": {
    "collapsed": true
   },
   "outputs": [
    {
     "data": {
      "text/html": [
       "<div>\n",
       "<style scoped>\n",
       "    .dataframe tbody tr th:only-of-type {\n",
       "        vertical-align: middle;\n",
       "    }\n",
       "\n",
       "    .dataframe tbody tr th {\n",
       "        vertical-align: top;\n",
       "    }\n",
       "\n",
       "    .dataframe thead th {\n",
       "        text-align: right;\n",
       "    }\n",
       "</style>\n",
       "<table border=\"1\" class=\"dataframe\">\n",
       "  <thead>\n",
       "    <tr style=\"text-align: right;\">\n",
       "      <th></th>\n",
       "      <th>video_id</th>\n",
       "      <th>video_title</th>\n",
       "      <th>upload_date</th>\n",
       "      <th>view_count</th>\n",
       "      <th>like_count</th>\n",
       "    </tr>\n",
       "  </thead>\n",
       "  <tbody>\n",
       "    <tr>\n",
       "      <th>0</th>\n",
       "      <td>lbdBBC9cj3A</td>\n",
       "      <td>【小霖XiaoLin】 局長巔峰 高速上分    1/29</td>\n",
       "      <td>2022-01-29</td>\n",
       "      <td>(4249, 128)</td>\n",
       "      <td>1</td>\n",
       "    </tr>\n",
       "    <tr>\n",
       "      <th>1</th>\n",
       "      <td>Lq53hkfngaw</td>\n",
       "      <td>Cook Once, Eat Twice: Healthy Dinner + Lunch</td>\n",
       "      <td>2022-01-29</td>\n",
       "      <td>(665, 116)</td>\n",
       "      <td>1</td>\n",
       "    </tr>\n",
       "    <tr>\n",
       "      <th>2</th>\n",
       "      <td>G2-UbXaucQo</td>\n",
       "      <td>Revealed #MarketGuru Sanjiv Bhasin&amp;#39;s Portf...</td>\n",
       "      <td>2022-01-29</td>\n",
       "      <td>(4681, 670)</td>\n",
       "      <td>1</td>\n",
       "    </tr>\n",
       "    <tr>\n",
       "      <th>3</th>\n",
       "      <td>yWNj0gvtAdo</td>\n",
       "      <td>رسميا ايغالو هلالي !!!! راينا بالصفقة بكل صراح...</td>\n",
       "      <td>2022-01-29</td>\n",
       "      <td>(12550, 2850)</td>\n",
       "      <td>1</td>\n",
       "    </tr>\n",
       "    <tr>\n",
       "      <th>4</th>\n",
       "      <td>bPdmLNop3C8</td>\n",
       "      <td>Вести в 11:00 от 29.01.2022 - Россия 24</td>\n",
       "      <td>2022-01-29</td>\n",
       "      <td>(16748, 167)</td>\n",
       "      <td>1</td>\n",
       "    </tr>\n",
       "  </tbody>\n",
       "</table>\n",
       "</div>"
      ],
      "text/plain": [
       "      video_id                                        video_title upload_date  \\\n",
       "0  lbdBBC9cj3A                      【小霖XiaoLin】 局長巔峰 高速上分    1/29  2022-01-29   \n",
       "1  Lq53hkfngaw       Cook Once, Eat Twice: Healthy Dinner + Lunch  2022-01-29   \n",
       "2  G2-UbXaucQo  Revealed #MarketGuru Sanjiv Bhasin&#39;s Portf...  2022-01-29   \n",
       "3  yWNj0gvtAdo  رسميا ايغالو هلالي !!!! راينا بالصفقة بكل صراح...  2022-01-29   \n",
       "4  bPdmLNop3C8            Вести в 11:00 от 29.01.2022 - Россия 24  2022-01-29   \n",
       "\n",
       "      view_count like_count  \n",
       "0    (4249, 128)          1  \n",
       "1     (665, 116)          1  \n",
       "2    (4681, 670)          1  \n",
       "3  (12550, 2850)          1  \n",
       "4   (16748, 167)          1  "
      ]
     },
     "execution_count": 49,
     "metadata": {},
     "output_type": "execute_result"
    }
   ],
   "source": [
    "df.head()"
   ]
  },
  {
   "cell_type": "code",
   "execution_count": null,
   "id": "f0380802",
   "metadata": {},
   "outputs": [],
   "source": []
  }
 ],
 "metadata": {
  "kernelspec": {
   "display_name": "Python 3 (ipykernel)",
   "language": "python",
   "name": "python3"
  },
  "language_info": {
   "codemirror_mode": {
    "name": "ipython",
    "version": 3
   },
   "file_extension": ".py",
   "mimetype": "text/x-python",
   "name": "python",
   "nbconvert_exporter": "python",
   "pygments_lexer": "ipython3",
   "version": "3.9.7"
  }
 },
 "nbformat": 4,
 "nbformat_minor": 5
}
